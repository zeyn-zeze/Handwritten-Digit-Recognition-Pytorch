{
  "nbformat": 4,
  "nbformat_minor": 0,
  "metadata": {
    "colab": {
      "provenance": [],
      "gpuType": "T4"
    },
    "kernelspec": {
      "name": "python3",
      "display_name": "Python 3"
    },
    "language_info": {
      "name": "python"
    },
    "accelerator": "GPU",
    "widgets": {
      "application/vnd.jupyter.widget-state+json": {
        "34f07926e7934961af333acf8c1a55df": {
          "model_module": "@jupyter-widgets/controls",
          "model_name": "HBoxModel",
          "model_module_version": "1.5.0",
          "state": {
            "_dom_classes": [],
            "_model_module": "@jupyter-widgets/controls",
            "_model_module_version": "1.5.0",
            "_model_name": "HBoxModel",
            "_view_count": null,
            "_view_module": "@jupyter-widgets/controls",
            "_view_module_version": "1.5.0",
            "_view_name": "HBoxView",
            "box_style": "",
            "children": [
              "IPY_MODEL_aecf0a287dd646a5a8145488b45ba095",
              "IPY_MODEL_9755a9b4bdcf44acba0064f3a87055dc",
              "IPY_MODEL_14c396c60e9f482b8d4608ecc62a6711"
            ],
            "layout": "IPY_MODEL_dae864d6346e45b6913e15e9b43f1cde"
          }
        },
        "aecf0a287dd646a5a8145488b45ba095": {
          "model_module": "@jupyter-widgets/controls",
          "model_name": "HTMLModel",
          "model_module_version": "1.5.0",
          "state": {
            "_dom_classes": [],
            "_model_module": "@jupyter-widgets/controls",
            "_model_module_version": "1.5.0",
            "_model_name": "HTMLModel",
            "_view_count": null,
            "_view_module": "@jupyter-widgets/controls",
            "_view_module_version": "1.5.0",
            "_view_name": "HTMLView",
            "description": "",
            "description_tooltip": null,
            "layout": "IPY_MODEL_8c4b3569ef83423c9037941e35ee1204",
            "placeholder": "​",
            "style": "IPY_MODEL_d8aeed54b5c345169878179b5933ef80",
            "value": "Epochs: 100%"
          }
        },
        "9755a9b4bdcf44acba0064f3a87055dc": {
          "model_module": "@jupyter-widgets/controls",
          "model_name": "FloatProgressModel",
          "model_module_version": "1.5.0",
          "state": {
            "_dom_classes": [],
            "_model_module": "@jupyter-widgets/controls",
            "_model_module_version": "1.5.0",
            "_model_name": "FloatProgressModel",
            "_view_count": null,
            "_view_module": "@jupyter-widgets/controls",
            "_view_module_version": "1.5.0",
            "_view_name": "ProgressView",
            "bar_style": "success",
            "description": "",
            "description_tooltip": null,
            "layout": "IPY_MODEL_74ac4327cb5f47a9a7a9c1d23e02b5e6",
            "max": 20,
            "min": 0,
            "orientation": "horizontal",
            "style": "IPY_MODEL_c0ecc58cc7594e819df526c944e721b5",
            "value": 20
          }
        },
        "14c396c60e9f482b8d4608ecc62a6711": {
          "model_module": "@jupyter-widgets/controls",
          "model_name": "HTMLModel",
          "model_module_version": "1.5.0",
          "state": {
            "_dom_classes": [],
            "_model_module": "@jupyter-widgets/controls",
            "_model_module_version": "1.5.0",
            "_model_name": "HTMLModel",
            "_view_count": null,
            "_view_module": "@jupyter-widgets/controls",
            "_view_module_version": "1.5.0",
            "_view_name": "HTMLView",
            "description": "",
            "description_tooltip": null,
            "layout": "IPY_MODEL_3527d48147364b8e862294f0b87ca347",
            "placeholder": "​",
            "style": "IPY_MODEL_c72c52ae55fd4c938f60ae908a204e96",
            "value": " 20/20 [06:11&lt;00:00, 17.45s/it]"
          }
        },
        "dae864d6346e45b6913e15e9b43f1cde": {
          "model_module": "@jupyter-widgets/base",
          "model_name": "LayoutModel",
          "model_module_version": "1.2.0",
          "state": {
            "_model_module": "@jupyter-widgets/base",
            "_model_module_version": "1.2.0",
            "_model_name": "LayoutModel",
            "_view_count": null,
            "_view_module": "@jupyter-widgets/base",
            "_view_module_version": "1.2.0",
            "_view_name": "LayoutView",
            "align_content": null,
            "align_items": null,
            "align_self": null,
            "border": null,
            "bottom": null,
            "display": null,
            "flex": null,
            "flex_flow": null,
            "grid_area": null,
            "grid_auto_columns": null,
            "grid_auto_flow": null,
            "grid_auto_rows": null,
            "grid_column": null,
            "grid_gap": null,
            "grid_row": null,
            "grid_template_areas": null,
            "grid_template_columns": null,
            "grid_template_rows": null,
            "height": null,
            "justify_content": null,
            "justify_items": null,
            "left": null,
            "margin": null,
            "max_height": null,
            "max_width": null,
            "min_height": null,
            "min_width": null,
            "object_fit": null,
            "object_position": null,
            "order": null,
            "overflow": null,
            "overflow_x": null,
            "overflow_y": null,
            "padding": null,
            "right": null,
            "top": null,
            "visibility": null,
            "width": null
          }
        },
        "8c4b3569ef83423c9037941e35ee1204": {
          "model_module": "@jupyter-widgets/base",
          "model_name": "LayoutModel",
          "model_module_version": "1.2.0",
          "state": {
            "_model_module": "@jupyter-widgets/base",
            "_model_module_version": "1.2.0",
            "_model_name": "LayoutModel",
            "_view_count": null,
            "_view_module": "@jupyter-widgets/base",
            "_view_module_version": "1.2.0",
            "_view_name": "LayoutView",
            "align_content": null,
            "align_items": null,
            "align_self": null,
            "border": null,
            "bottom": null,
            "display": null,
            "flex": null,
            "flex_flow": null,
            "grid_area": null,
            "grid_auto_columns": null,
            "grid_auto_flow": null,
            "grid_auto_rows": null,
            "grid_column": null,
            "grid_gap": null,
            "grid_row": null,
            "grid_template_areas": null,
            "grid_template_columns": null,
            "grid_template_rows": null,
            "height": null,
            "justify_content": null,
            "justify_items": null,
            "left": null,
            "margin": null,
            "max_height": null,
            "max_width": null,
            "min_height": null,
            "min_width": null,
            "object_fit": null,
            "object_position": null,
            "order": null,
            "overflow": null,
            "overflow_x": null,
            "overflow_y": null,
            "padding": null,
            "right": null,
            "top": null,
            "visibility": null,
            "width": null
          }
        },
        "d8aeed54b5c345169878179b5933ef80": {
          "model_module": "@jupyter-widgets/controls",
          "model_name": "DescriptionStyleModel",
          "model_module_version": "1.5.0",
          "state": {
            "_model_module": "@jupyter-widgets/controls",
            "_model_module_version": "1.5.0",
            "_model_name": "DescriptionStyleModel",
            "_view_count": null,
            "_view_module": "@jupyter-widgets/base",
            "_view_module_version": "1.2.0",
            "_view_name": "StyleView",
            "description_width": ""
          }
        },
        "74ac4327cb5f47a9a7a9c1d23e02b5e6": {
          "model_module": "@jupyter-widgets/base",
          "model_name": "LayoutModel",
          "model_module_version": "1.2.0",
          "state": {
            "_model_module": "@jupyter-widgets/base",
            "_model_module_version": "1.2.0",
            "_model_name": "LayoutModel",
            "_view_count": null,
            "_view_module": "@jupyter-widgets/base",
            "_view_module_version": "1.2.0",
            "_view_name": "LayoutView",
            "align_content": null,
            "align_items": null,
            "align_self": null,
            "border": null,
            "bottom": null,
            "display": null,
            "flex": null,
            "flex_flow": null,
            "grid_area": null,
            "grid_auto_columns": null,
            "grid_auto_flow": null,
            "grid_auto_rows": null,
            "grid_column": null,
            "grid_gap": null,
            "grid_row": null,
            "grid_template_areas": null,
            "grid_template_columns": null,
            "grid_template_rows": null,
            "height": null,
            "justify_content": null,
            "justify_items": null,
            "left": null,
            "margin": null,
            "max_height": null,
            "max_width": null,
            "min_height": null,
            "min_width": null,
            "object_fit": null,
            "object_position": null,
            "order": null,
            "overflow": null,
            "overflow_x": null,
            "overflow_y": null,
            "padding": null,
            "right": null,
            "top": null,
            "visibility": null,
            "width": null
          }
        },
        "c0ecc58cc7594e819df526c944e721b5": {
          "model_module": "@jupyter-widgets/controls",
          "model_name": "ProgressStyleModel",
          "model_module_version": "1.5.0",
          "state": {
            "_model_module": "@jupyter-widgets/controls",
            "_model_module_version": "1.5.0",
            "_model_name": "ProgressStyleModel",
            "_view_count": null,
            "_view_module": "@jupyter-widgets/base",
            "_view_module_version": "1.2.0",
            "_view_name": "StyleView",
            "bar_color": null,
            "description_width": ""
          }
        },
        "3527d48147364b8e862294f0b87ca347": {
          "model_module": "@jupyter-widgets/base",
          "model_name": "LayoutModel",
          "model_module_version": "1.2.0",
          "state": {
            "_model_module": "@jupyter-widgets/base",
            "_model_module_version": "1.2.0",
            "_model_name": "LayoutModel",
            "_view_count": null,
            "_view_module": "@jupyter-widgets/base",
            "_view_module_version": "1.2.0",
            "_view_name": "LayoutView",
            "align_content": null,
            "align_items": null,
            "align_self": null,
            "border": null,
            "bottom": null,
            "display": null,
            "flex": null,
            "flex_flow": null,
            "grid_area": null,
            "grid_auto_columns": null,
            "grid_auto_flow": null,
            "grid_auto_rows": null,
            "grid_column": null,
            "grid_gap": null,
            "grid_row": null,
            "grid_template_areas": null,
            "grid_template_columns": null,
            "grid_template_rows": null,
            "height": null,
            "justify_content": null,
            "justify_items": null,
            "left": null,
            "margin": null,
            "max_height": null,
            "max_width": null,
            "min_height": null,
            "min_width": null,
            "object_fit": null,
            "object_position": null,
            "order": null,
            "overflow": null,
            "overflow_x": null,
            "overflow_y": null,
            "padding": null,
            "right": null,
            "top": null,
            "visibility": null,
            "width": null
          }
        },
        "c72c52ae55fd4c938f60ae908a204e96": {
          "model_module": "@jupyter-widgets/controls",
          "model_name": "DescriptionStyleModel",
          "model_module_version": "1.5.0",
          "state": {
            "_model_module": "@jupyter-widgets/controls",
            "_model_module_version": "1.5.0",
            "_model_name": "DescriptionStyleModel",
            "_view_count": null,
            "_view_module": "@jupyter-widgets/base",
            "_view_module_version": "1.2.0",
            "_view_name": "StyleView",
            "description_width": ""
          }
        }
      }
    }
  },
  "cells": [
    {
      "cell_type": "markdown",
      "source": [
        "# Handwritten Digit Recognition"
      ],
      "metadata": {
        "id": "0BlqQT_TN2yn"
      }
    },
    {
      "cell_type": "code",
      "execution_count": null,
      "metadata": {
        "id": "HWJKqkBaNLMM"
      },
      "outputs": [],
      "source": [
        "from timeit import default_timer as timer\n",
        "import os\n",
        "\n",
        "import numpy as np\n",
        "import matplotlib.pyplot as plt\n",
        "\n",
        "import torch\n",
        "from torch import nn\n",
        "import torchvision\n",
        "from torchvision import datasets, transforms\n"
      ]
    },
    {
      "cell_type": "code",
      "source": [
        "#device's agnostic code\n",
        "device = \"cuda\" if torch.cuda.is_available() else \"cpu\"\n"
      ],
      "metadata": {
        "id": "inKHcLwWewxk"
      },
      "execution_count": null,
      "outputs": []
    },
    {
      "cell_type": "markdown",
      "source": [
        "## 1. Transform Image to Tensor Format"
      ],
      "metadata": {
        "id": "c0voi2HHN2OE"
      }
    },
    {
      "cell_type": "code",
      "source": [
        "transform = transforms.Compose([transforms.ToTensor(),\n",
        "                                transforms.Normalize((0.1307,), (0.3081,))])\n"
      ],
      "metadata": {
        "id": "VSTwlJnuNioJ"
      },
      "execution_count": null,
      "outputs": []
    },
    {
      "cell_type": "markdown",
      "source": [
        "## 2. Downloading Train and Test Data"
      ],
      "metadata": {
        "id": "EVRsU6ZsO7sW"
      }
    },
    {
      "cell_type": "code",
      "source": [
        "trainset = datasets.MNIST(root='./data', train=True, download=True, transform=transform)\n",
        "testset = datasets.MNIST(root='./data', train=False, download=True, transform=transform)\n"
      ],
      "metadata": {
        "id": "sHMFKrySPAut",
        "colab": {
          "base_uri": "https://localhost:8080/"
        },
        "outputId": "f019d861-c110-441c-b617-acb9097317f8"
      },
      "execution_count": null,
      "outputs": [
        {
          "output_type": "stream",
          "name": "stderr",
          "text": [
            "100%|██████████| 9.91M/9.91M [00:00<00:00, 18.0MB/s]\n",
            "100%|██████████| 28.9k/28.9k [00:00<00:00, 484kB/s]\n",
            "100%|██████████| 1.65M/1.65M [00:00<00:00, 4.50MB/s]\n",
            "100%|██████████| 4.54k/4.54k [00:00<00:00, 10.4MB/s]\n"
          ]
        }
      ]
    },
    {
      "cell_type": "markdown",
      "source": [
        "## 3. Load Batch_size with DataLoader"
      ],
      "metadata": {
        "id": "EozJpt5WP3Pz"
      }
    },
    {
      "cell_type": "code",
      "source": [
        "train_loader = torch.utils.data.DataLoader(trainset,batch_size=64,shuffle=True)\n",
        "test_loader= torch.utils.data.DataLoader(testset,batch_size=64,shuffle=False)"
      ],
      "metadata": {
        "id": "3maIwJAHP9l2"
      },
      "execution_count": null,
      "outputs": []
    },
    {
      "cell_type": "markdown",
      "source": [
        "##4. Data Visualizing and Exploring"
      ],
      "metadata": {
        "id": "EFoQVMJPQZ1Q"
      }
    },
    {
      "cell_type": "code",
      "source": [
        "data_counter = iter(train_loader)\n",
        "images, labels = next(data_counter)\n",
        "\n",
        "print(images.shape)\n",
        "print(labels.shape)"
      ],
      "metadata": {
        "colab": {
          "base_uri": "https://localhost:8080/"
        },
        "id": "55I_0qoNQfxn",
        "outputId": "b8ce9784-11b5-4f69-f155-8ae6cd540439"
      },
      "execution_count": null,
      "outputs": [
        {
          "output_type": "stream",
          "name": "stdout",
          "text": [
            "torch.Size([64, 1, 28, 28])\n",
            "torch.Size([64])\n"
          ]
        }
      ]
    },
    {
      "cell_type": "code",
      "source": [
        "# plot the first value\n",
        "plt.imshow(images[0].numpy().squeeze(), cmap='gray_r');"
      ],
      "metadata": {
        "colab": {
          "base_uri": "https://localhost:8080/",
          "height": 430
        },
        "id": "YaeSjuZ2Q2KN",
        "outputId": "db4b1347-cd46-4ced-c58f-6fe3b0ae4027"
      },
      "execution_count": null,
      "outputs": [
        {
          "output_type": "display_data",
          "data": {
            "text/plain": [
              "<Figure size 640x480 with 1 Axes>"
            ],
            "image/png": "[encoded data removed]"
          },
          "metadata": {}
        }
      ]
    },
    {
      "cell_type": "code",
      "source": [
        "\n",
        "#Shows 15 data within 3 rows and 5 column\n",
        "num_images = 15\n",
        "rows, cols = 3, 5\n",
        "\n",
        "fig, axes = plt.subplots(rows, cols, figsize=(10, 6))\n",
        "fig.tight_layout()\n",
        "\n",
        "for i in range(num_images):\n",
        "    row = i // cols   # row no\n",
        "    col = i % cols    # col no\n",
        "\n",
        "    ax = axes[row, col]\n",
        "    ax.imshow(images[i].numpy().squeeze(), cmap=\"gray\") # plot each img\n",
        "    ax.set_title(f\"Label: {labels[i].item()}\", fontsize=8)  # Write label name\n",
        "    ax.axis(\"off\")"
      ],
      "metadata": {
        "colab": {
          "base_uri": "https://localhost:8080/",
          "height": 573
        },
        "id": "DPyfPY2wRCuL",
        "outputId": "5323ad52-6398-49f4-c8ac-ce42452239d6"
      },
      "execution_count": null,
      "outputs": [
        {
          "output_type": "display_data",
          "data": {
            "text/plain": [
              "<Figure size 1000x600 with 15 Axes>"
            ],
            "image/png": "[encoded data removed]"
          },
          "metadata": {}
        }
      ]
    },
    {
      "cell_type": "markdown",
      "source": [
        "## 5. Defining Model and Class"
      ],
      "metadata": {
        "id": "37Eg79WLR19-"
      }
    },
    {
      "cell_type": "code",
      "source": [
        "class MNISTModel(nn.Module):\n",
        "    def __init__(self):\n",
        "        super(MNISTModel,self).__init__()\n",
        "\n",
        "        self.features = nn.Sequential(\n",
        "            nn.Conv2d(1, 32, 3, padding=1),\n",
        "            nn.ReLU(),\n",
        "            nn.MaxPool2d(2,2),\n",
        "            nn.Conv2d(32, 64, 3, padding=1),\n",
        "            nn.ReLU(),\n",
        "            nn.MaxPool2d(2,2)\n",
        "        )\n",
        "\n",
        "        self.classifier = nn.Sequential(\n",
        "            nn.Flatten(),\n",
        "            nn.Linear(64*7*7, 128),\n",
        "            nn.ReLU(),\n",
        "            nn.Dropout(0.3),\n",
        "            nn.Linear(128, 10)\n",
        "        )\n",
        "\n",
        "    def forward(self, x):\n",
        "        x = self.features(x)\n",
        "        x = self.classifier(x)\n",
        "        return x\n",
        "\n",
        "\n",
        "model_mnist = MNISTModel()\n",
        "model_mnist.to(device)\n",
        "model_mnist"
      ],
      "metadata": {
        "colab": {
          "base_uri": "https://localhost:8080/"
        },
        "id": "GN1xbsvgRxTB",
        "outputId": "cf5d1629-8989-4841-e02d-aa3ed50a0f43"
      },
      "execution_count": null,
      "outputs": [
        {
          "output_type": "execute_result",
          "data": {
            "text/plain": [
              "MNISTModel(\n",
              "  (features): Sequential(\n",
              "    (0): Conv2d(1, 32, kernel_size=(3, 3), stride=(1, 1), padding=(1, 1))\n",
              "    (1): ReLU()\n",
              "    (2): MaxPool2d(kernel_size=2, stride=2, padding=0, dilation=1, ceil_mode=False)\n",
              "    (3): Conv2d(32, 64, kernel_size=(3, 3), stride=(1, 1), padding=(1, 1))\n",
              "    (4): ReLU()\n",
              "    (5): MaxPool2d(kernel_size=2, stride=2, padding=0, dilation=1, ceil_mode=False)\n",
              "  )\n",
              "  (classifier): Sequential(\n",
              "    (0): Flatten(start_dim=1, end_dim=-1)\n",
              "    (1): Linear(in_features=3136, out_features=128, bias=True)\n",
              "    (2): ReLU()\n",
              "    (3): Dropout(p=0.3, inplace=False)\n",
              "    (4): Linear(in_features=128, out_features=10, bias=True)\n",
              "  )\n",
              ")"
            ]
          },
          "metadata": {},
          "execution_count": 10
        }
      ]
    },
    {
      "cell_type": "markdown",
      "source": [
        "Setup loss and optimizer and evaluation metrics"
      ],
      "metadata": {
        "id": "_AMW9QwdV_Ew"
      }
    },
    {
      "cell_type": "code",
      "source": [
        "import requests\n",
        "from pathlib import Path\n",
        "\n",
        "# download helper_function doc from pytorch learn repo\n",
        "if Path(\"helper_functions.py\").is_file():\n",
        "  print(\"helper_functions.py already exists\")\n",
        "else:\n",
        "  print(\"Downloading helper_functions.py\")\n",
        "  request = requests.get(\"https://raw.githubusercontent.com/mrdbourke/pytorch-deep-learning/main/helper_functions.py\")\n",
        "  with open(\"helper_functions.py\",\"wb\") as f:\n",
        "    f.write(request.content)"
      ],
      "metadata": {
        "colab": {
          "base_uri": "https://localhost:8080/"
        },
        "id": "suxpgaB9WK3v",
        "outputId": "4da242e3-863d-4f8c-cce3-bc1c46d89656"
      },
      "execution_count": null,
      "outputs": [
        {
          "output_type": "stream",
          "name": "stdout",
          "text": [
            "Downloading helper_functions.py\n"
          ]
        }
      ]
    },
    {
      "cell_type": "markdown",
      "source": [
        "## 6. Create loss function and optimizer\n"
      ],
      "metadata": {
        "id": "Ui-OgeBfV0qj"
      }
    },
    {
      "cell_type": "code",
      "source": [
        "from  helper_functions import accuracy_fn\n",
        "# setup loss and optimizer\n",
        "loss_fn = nn.CrossEntropyLoss()\n",
        "optimizer = torch.optim.Adam(params=model_mnist.parameters(), lr=0.001)"
      ],
      "metadata": {
        "id": "uvK484GPWPyS"
      },
      "execution_count": null,
      "outputs": []
    },
    {
      "cell_type": "markdown",
      "source": [
        "## 7. Creating function to time our experiment"
      ],
      "metadata": {
        "id": "V4BRsVXvU_gD"
      }
    },
    {
      "cell_type": "code",
      "source": [
        "def print_time(start:float,\n",
        "               end : float,\n",
        "               device:torch.device=None):\n",
        "  total_time = end - start\n",
        "  print(f\"Time taken: {total_time:.3f} seconds\")\n",
        "  return total_time\n"
      ],
      "metadata": {
        "id": "LjZsz8PwT-nG"
      },
      "execution_count": null,
      "outputs": []
    },
    {
      "cell_type": "markdown",
      "source": [
        "## 8. Create training loop and training model"
      ],
      "metadata": {
        "id": "kLHCRakhWoCF"
      }
    },
    {
      "cell_type": "code",
      "source": [
        "from tqdm.auto import tqdm\n",
        "import torch\n",
        "from timeit import default_timer as timer\n",
        "\n",
        "torch.manual_seed(42)\n",
        "# --- train_step ---\n",
        "def train_step(model: torch.nn.Module,\n",
        "               data_loader: torch.utils.data.DataLoader,\n",
        "               loss_fn: torch.nn.Module,\n",
        "               optimizer: torch.optim.Optimizer,\n",
        "               accuracy_fn,\n",
        "               device: torch.device):\n",
        "\n",
        "  ### -- Training--\n",
        "\n",
        "    model.train()\n",
        "    train_loss, train_acc = 0, 0\n",
        "\n",
        "    for X, y in data_loader:\n",
        "        X, y = X.to(device), y.to(device)\n",
        "\n",
        "        # Forward pass\n",
        "        y_pred = model(X)\n",
        "\n",
        "        # Loss & accuracy\n",
        "        loss = loss_fn(y_pred, y)\n",
        "        train_loss += loss.item()\n",
        "        train_acc += accuracy_fn(y_true=y, y_pred=y_pred.argmax(dim=1))\n",
        "\n",
        "        # Backward & optimize\n",
        "        optimizer.zero_grad()\n",
        "        loss.backward()\n",
        "        optimizer.step()\n",
        "\n",
        "    train_loss /= len(data_loader)\n",
        "    train_acc /= len(data_loader)\n",
        "    print(f\"Train loss: {train_loss:.5f} | Train accuracy: {train_acc:.2f}%\")\n",
        "    return train_loss, train_acc\n",
        "\n",
        "# --- test_step ---\n",
        "\n",
        "def test_step(model: torch.nn.Module,\n",
        "              data_loader: torch.utils.data.DataLoader,\n",
        "              loss_fn: torch.nn.Module,\n",
        "              accuracy_fn,\n",
        "              device: torch.device):\n",
        "\n",
        "    model.eval()\n",
        "    test_loss, test_acc = 0, 0\n",
        "\n",
        "    with torch.inference_mode():\n",
        "        for X, y in data_loader:\n",
        "            X, y = X.to(device), y.to(device)\n",
        "            y_pred = model(X)\n",
        "\n",
        "            test_loss += loss_fn(y_pred, y).item()\n",
        "            test_acc += accuracy_fn(y_true=y, y_pred=y_pred.argmax(dim=1))\n",
        "\n",
        "    test_loss /= len(data_loader)\n",
        "    test_acc /= len(data_loader)\n",
        "    print(f\"Test loss: {test_loss:.5f} | Test accuracy: {test_acc:.2f}%\\n\")\n",
        "    return test_loss, test_acc\n",
        "\n",
        "# --- Full epoch loop ---\n",
        "\n",
        "epochs = 20\n",
        "train_time_start_on_cpu = timer()\n",
        "\n",
        "for epoch in tqdm(range(epochs), desc=\"Epochs\"):\n",
        "    print(f\"\\nEpoch {epoch+1}/{epochs}\\n{'-'*20}\")\n",
        "    train_step(model_mnist, train_loader, loss_fn, optimizer, accuracy_fn, device)\n",
        "    test_step(model_mnist, test_loader, loss_fn, accuracy_fn, device)\n",
        "\n",
        "train_time_end_on_cpu = timer()\n",
        "print(f\"Total training time: {train_time_end_on_cpu - train_time_start_on_cpu:.2f} seconds\")\n"
      ],
      "metadata": {
        "colab": {
          "base_uri": "https://localhost:8080/",
          "height": 1000,
          "referenced_widgets": [
            "34f07926e7934961af333acf8c1a55df",
            "aecf0a287dd646a5a8145488b45ba095",
            "9755a9b4bdcf44acba0064f3a87055dc",
            "14c396c60e9f482b8d4608ecc62a6711",
            "dae864d6346e45b6913e15e9b43f1cde",
            "8c4b3569ef83423c9037941e35ee1204",
            "d8aeed54b5c345169878179b5933ef80",
            "74ac4327cb5f47a9a7a9c1d23e02b5e6",
            "c0ecc58cc7594e819df526c944e721b5",
            "3527d48147364b8e862294f0b87ca347",
            "c72c52ae55fd4c938f60ae908a204e96"
          ]
        },
        "id": "GPq76OR2VW51",
        "outputId": "1aa83234-80a9-4f21-e010-846f295a3964"
      },
      "execution_count": null,
      "outputs": [
        {
          "output_type": "display_data",
          "data": {
            "text/plain": [
              "Epochs:   0%|          | 0/20 [00:00<?, ?it/s]"
            ],
            "application/vnd.jupyter.widget-view+json": {
              "version_major": 2,
              "version_minor": 0,
              "model_id": "34f07926e7934961af333acf8c1a55df"
            }
          },
          "metadata": {}
        },
        {
          "output_type": "stream",
          "name": "stdout",
          "text": [
            "\n",
            "Epoch 1/20\n",
            "--------------------\n",
            "Train loss: 0.16887 | Train accuracy: 94.82%\n",
            "Test loss: 0.04631 | Test accuracy: 98.71%\n",
            "\n",
            "\n",
            "Epoch 2/20\n",
            "--------------------\n",
            "Train loss: 0.05812 | Train accuracy: 98.21%\n",
            "Test loss: 0.03411 | Test accuracy: 98.94%\n",
            "\n",
            "\n",
            "Epoch 3/20\n",
            "--------------------\n",
            "Train loss: 0.04269 | Train accuracy: 98.68%\n",
            "Test loss: 0.02931 | Test accuracy: 99.06%\n",
            "\n",
            "\n",
            "Epoch 4/20\n",
            "--------------------\n",
            "Train loss: 0.03245 | Train accuracy: 98.99%\n",
            "Test loss: 0.02928 | Test accuracy: 99.12%\n",
            "\n",
            "\n",
            "Epoch 5/20\n",
            "--------------------\n",
            "Train loss: 0.02655 | Train accuracy: 99.17%\n",
            "Test loss: 0.02542 | Test accuracy: 99.17%\n",
            "\n",
            "\n",
            "Epoch 6/20\n",
            "--------------------\n",
            "Train loss: 0.02267 | Train accuracy: 99.29%\n",
            "Test loss: 0.03546 | Test accuracy: 98.96%\n",
            "\n",
            "\n",
            "Epoch 7/20\n",
            "--------------------\n",
            "Train loss: 0.01918 | Train accuracy: 99.39%\n",
            "Test loss: 0.02341 | Test accuracy: 99.29%\n",
            "\n",
            "\n",
            "Epoch 8/20\n",
            "--------------------\n",
            "Train loss: 0.01656 | Train accuracy: 99.44%\n",
            "Test loss: 0.02666 | Test accuracy: 99.22%\n",
            "\n",
            "\n",
            "Epoch 9/20\n",
            "--------------------\n",
            "Train loss: 0.01381 | Train accuracy: 99.55%\n",
            "Test loss: 0.03485 | Test accuracy: 98.99%\n",
            "\n",
            "\n",
            "Epoch 10/20\n",
            "--------------------\n",
            "Train loss: 0.01322 | Train accuracy: 99.55%\n",
            "Test loss: 0.02822 | Test accuracy: 99.24%\n",
            "\n",
            "\n",
            "Epoch 11/20\n",
            "--------------------\n",
            "Train loss: 0.01071 | Train accuracy: 99.64%\n",
            "Test loss: 0.03173 | Test accuracy: 99.22%\n",
            "\n",
            "\n",
            "Epoch 12/20\n",
            "--------------------\n",
            "Train loss: 0.01134 | Train accuracy: 99.62%\n",
            "Test loss: 0.02992 | Test accuracy: 99.27%\n",
            "\n",
            "\n",
            "Epoch 13/20\n",
            "--------------------\n",
            "Train loss: 0.00990 | Train accuracy: 99.68%\n",
            "Test loss: 0.02994 | Test accuracy: 99.32%\n",
            "\n",
            "\n",
            "Epoch 14/20\n",
            "--------------------\n",
            "Train loss: 0.00870 | Train accuracy: 99.72%\n",
            "Test loss: 0.03046 | Test accuracy: 99.29%\n",
            "\n",
            "\n",
            "Epoch 15/20\n",
            "--------------------\n",
            "Train loss: 0.00936 | Train accuracy: 99.68%\n",
            "Test loss: 0.03502 | Test accuracy: 99.27%\n",
            "\n",
            "\n",
            "Epoch 16/20\n",
            "--------------------\n",
            "Train loss: 0.00862 | Train accuracy: 99.70%\n",
            "Test loss: 0.03550 | Test accuracy: 99.29%\n",
            "\n",
            "\n",
            "Epoch 17/20\n",
            "--------------------\n",
            "Train loss: 0.00826 | Train accuracy: 99.70%\n",
            "Test loss: 0.03234 | Test accuracy: 99.20%\n",
            "\n",
            "\n",
            "Epoch 18/20\n",
            "--------------------\n",
            "Train loss: 0.00695 | Train accuracy: 99.75%\n",
            "Test loss: 0.03534 | Test accuracy: 99.20%\n",
            "\n",
            "\n",
            "Epoch 19/20\n",
            "--------------------\n",
            "Train loss: 0.00629 | Train accuracy: 99.79%\n",
            "Test loss: 0.04402 | Test accuracy: 99.08%\n",
            "\n",
            "\n",
            "Epoch 20/20\n",
            "--------------------\n",
            "Train loss: 0.00814 | Train accuracy: 99.75%\n",
            "Test loss: 0.05205 | Test accuracy: 99.05%\n",
            "\n",
            "Total training time: 371.49 seconds\n"
          ]
        }
      ]
    },
    {
      "cell_type": "markdown",
      "source": [
        "## 9. Confussion Matrix\n"
      ],
      "metadata": {
        "id": "oV2APbt9dsva"
      }
    },
    {
      "cell_type": "code",
      "source": [
        "!pip install torchmetrics\n"
      ],
      "metadata": {
        "colab": {
          "base_uri": "https://localhost:8080/"
        },
        "id": "enMX-aw5oPu7",
        "outputId": "277d5b7a-ae2b-49db-ceba-754bfc43c1b3"
      },
      "execution_count": null,
      "outputs": [
        {
          "output_type": "stream",
          "name": "stdout",
          "text": [
            "Collecting torchmetrics\n",
            "  Downloading torchmetrics-1.8.2-py3-none-any.whl.metadata (22 kB)\n",
            "Requirement already satisfied: numpy>1.20.0 in /usr/local/lib/python3.12/dist-packages (from torchmetrics) (2.0.2)\n",
            "Requirement already satisfied: packaging>17.1 in /usr/local/lib/python3.12/dist-packages (from torchmetrics) (25.0)\n",
            "Requirement already satisfied: torch>=2.0.0 in /usr/local/lib/python3.12/dist-packages (from torchmetrics) (2.8.0+cu126)\n",
            "Collecting lightning-utilities>=0.8.0 (from torchmetrics)\n",
            "  Downloading lightning_utilities-0.15.2-py3-none-any.whl.metadata (5.7 kB)\n",
            "Requirement already satisfied: setuptools in /usr/local/lib/python3.12/dist-packages (from lightning-utilities>=0.8.0->torchmetrics) (75.2.0)\n",
            "Requirement already satisfied: typing_extensions in /usr/local/lib/python3.12/dist-packages (from lightning-utilities>=0.8.0->torchmetrics) (4.15.0)\n",
            "Requirement already satisfied: filelock in /usr/local/lib/python3.12/dist-packages (from torch>=2.0.0->torchmetrics) (3.19.1)\n",
            "Requirement already satisfied: sympy>=1.13.3 in /usr/local/lib/python3.12/dist-packages (from torch>=2.0.0->torchmetrics) (1.13.3)\n",
            "Requirement already satisfied: networkx in /usr/local/lib/python3.12/dist-packages (from torch>=2.0.0->torchmetrics) (3.5)\n",
            "Requirement already satisfied: jinja2 in /usr/local/lib/python3.12/dist-packages (from torch>=2.0.0->torchmetrics) (3.1.6)\n",
            "Requirement already satisfied: fsspec in /usr/local/lib/python3.12/dist-packages (from torch>=2.0.0->torchmetrics) (2025.3.0)\n",
            "Requirement already satisfied: nvidia-cuda-nvrtc-cu12==12.6.77 in /usr/local/lib/python3.12/dist-packages (from torch>=2.0.0->torchmetrics) (12.6.77)\n",
            "Requirement already satisfied: nvidia-cuda-runtime-cu12==12.6.77 in /usr/local/lib/python3.12/dist-packages (from torch>=2.0.0->torchmetrics) (12.6.77)\n",
            "Requirement already satisfied: nvidia-cuda-cupti-cu12==12.6.80 in /usr/local/lib/python3.12/dist-packages (from torch>=2.0.0->torchmetrics) (12.6.80)\n",
            "Requirement already satisfied: nvidia-cudnn-cu12==9.10.2.21 in /usr/local/lib/python3.12/dist-packages (from torch>=2.0.0->torchmetrics) (9.10.2.21)\n",
            "Requirement already satisfied: nvidia-cublas-cu12==12.6.4.1 in /usr/local/lib/python3.12/dist-packages (from torch>=2.0.0->torchmetrics) (12.6.4.1)\n",
            "Requirement already satisfied: nvidia-cufft-cu12==11.3.0.4 in /usr/local/lib/python3.12/dist-packages (from torch>=2.0.0->torchmetrics) (11.3.0.4)\n",
            "Requirement already satisfied: nvidia-curand-cu12==10.3.7.77 in /usr/local/lib/python3.12/dist-packages (from torch>=2.0.0->torchmetrics) (10.3.7.77)\n",
            "Requirement already satisfied: nvidia-cusolver-cu12==11.7.1.2 in /usr/local/lib/python3.12/dist-packages (from torch>=2.0.0->torchmetrics) (11.7.1.2)\n",
            "Requirement already satisfied: nvidia-cusparse-cu12==12.5.4.2 in /usr/local/lib/python3.12/dist-packages (from torch>=2.0.0->torchmetrics) (12.5.4.2)\n",
            "Requirement already satisfied: nvidia-cusparselt-cu12==0.7.1 in /usr/local/lib/python3.12/dist-packages (from torch>=2.0.0->torchmetrics) (0.7.1)\n",
            "Requirement already satisfied: nvidia-nccl-cu12==2.27.3 in /usr/local/lib/python3.12/dist-packages (from torch>=2.0.0->torchmetrics) (2.27.3)\n",
            "Requirement already satisfied: nvidia-nvtx-cu12==12.6.77 in /usr/local/lib/python3.12/dist-packages (from torch>=2.0.0->torchmetrics) (12.6.77)\n",
            "Requirement already satisfied: nvidia-nvjitlink-cu12==12.6.85 in /usr/local/lib/python3.12/dist-packages (from torch>=2.0.0->torchmetrics) (12.6.85)\n",
            "Requirement already satisfied: nvidia-cufile-cu12==1.11.1.6 in /usr/local/lib/python3.12/dist-packages (from torch>=2.0.0->torchmetrics) (1.11.1.6)\n",
            "Requirement already satisfied: triton==3.4.0 in /usr/local/lib/python3.12/dist-packages (from torch>=2.0.0->torchmetrics) (3.4.0)\n",
            "Requirement already satisfied: mpmath<1.4,>=1.1.0 in /usr/local/lib/python3.12/dist-packages (from sympy>=1.13.3->torch>=2.0.0->torchmetrics) (1.3.0)\n",
            "Requirement already satisfied: MarkupSafe>=2.0 in /usr/local/lib/python3.12/dist-packages (from jinja2->torch>=2.0.0->torchmetrics) (3.0.2)\n",
            "Downloading torchmetrics-1.8.2-py3-none-any.whl (983 kB)\n",
            "\u001b[2K   \u001b[90m━━━━━━━━━━━━━━━━━━━━━━━━━━━━━━━━━━━━━━━━\u001b[0m \u001b[32m983.2/983.2 kB\u001b[0m \u001b[31m26.5 MB/s\u001b[0m eta \u001b[36m0:00:00\u001b[0m\n",
            "\u001b[?25hDownloading lightning_utilities-0.15.2-py3-none-any.whl (29 kB)\n",
            "Installing collected packages: lightning-utilities, torchmetrics\n",
            "Successfully installed lightning-utilities-0.15.2 torchmetrics-1.8.2\n"
          ]
        }
      ]
    },
    {
      "cell_type": "code",
      "source": [
        "import torch\n",
        "import matplotlib.pyplot as plt\n",
        "import seaborn as sns\n",
        "from torchmetrics.classification import ConfusionMatrix\n",
        "\n",
        "def plot_confusion_matrix(model, data_loader, device, split_name=\"Test\"):\n",
        "    model.eval()\n",
        "\n",
        "    # labels\n",
        "    all_labels = []\n",
        "    # predicts\n",
        "    all_preds = []\n",
        "\n",
        "    with torch.inference_mode():\n",
        "        for X, y in data_loader:\n",
        "            X, y = X.to(device), y.to(device)\n",
        "            preds = model(X).argmax(dim=1)\n",
        "\n",
        "            all_labels.append(y)\n",
        "            all_preds.append(preds)\n",
        "\n",
        "    all_labels = torch.cat(all_labels)\n",
        "    all_preds = torch.cat(all_preds)\n",
        "\n",
        "    # Confusion matrix\n",
        "    num_classes = 10\n",
        "    cm_metric = ConfusionMatrix(task=\"multiclass\", num_classes=num_classes).to(device)\n",
        "    cm = cm_metric(all_preds, all_labels)  # preds, targets\n",
        "    cm = cm.cpu().numpy()\n",
        "\n",
        "    # Visualize\n",
        "    plt.figure(figsize=(10,8))\n",
        "    sns.heatmap(cm, annot=True, fmt='d', cmap='Blues')\n",
        "    plt.xlabel(\"Predicted Labels\")\n",
        "    plt.ylabel(\"True Labels\")\n",
        "    plt.title(f\"Confusion Matrix ({split_name} set)\")\n",
        "    plt.show()\n",
        "\n",
        "\n",
        "\n",
        "plot_confusion_matrix(model_mnist, train_loader, device, split_name=\"Train\")\n",
        "plot_confusion_matrix(model_mnist, test_loader, device, split_name=\"Test\")\n"
      ],
      "metadata": {
        "colab": {
          "base_uri": "https://localhost:8080/",
          "height": 1000
        },
        "id": "ZoByW0Cbdv7d",
        "outputId": "8c2b2acb-5245-49b7-e8ab-11541fc1e9d7"
      },
      "execution_count": null,
      "outputs": [
        {
          "output_type": "display_data",
          "data": {
            "text/plain": [
              "<Figure size 1000x800 with 2 Axes>"
            ],
            "image/png": "[encoded data removed]"
          },
          "metadata": {}
        },
        {
          "output_type": "display_data",
          "data": {
            "text/plain": [
              "<Figure size 1000x800 with 2 Axes>"
            ],
            "image/png": "[encoded data removed]"
          },
          "metadata": {}
        }
      ]
    },
    {
      "cell_type": "markdown",
      "source": [
        "## Save model pth format\n"
      ],
      "metadata": {
        "id": "rPuk7SNxU_oc"
      }
    },
    {
      "cell_type": "code",
      "source": [
        "\n",
        "torch.save(model_mnist.state_dict(), \"model_digit2.pth\")\n"
      ],
      "metadata": {
        "id": "bTKFpWr5eHkk"
      },
      "execution_count": null,
      "outputs": []
    }
  ]
}